{
 "cells": [
  {
   "cell_type": "code",
   "execution_count": 8,
   "id": "dcf238d6",
   "metadata": {
    "scrolled": true
   },
   "outputs": [
    {
     "name": "stdout",
     "output_type": "stream",
     "text": [
      "1/1 [==============================] - 0s 47ms/step\n",
      "Predicted character: A\n"
     ]
    }
   ],
   "source": [
    "import numpy as np\n",
    "from PIL import Image\n",
    "import tensorflow as tf\n",
    "from tensorflow.keras.models import load_model\n",
    "\n",
    "# Load your custom image\n",
    "custom_image = Image.open('C:/Users/21ad040/Pictures/a.png')  # Replace with your image path\n",
    "custom_image = custom_image.convert('L')  # Convert to grayscale\n",
    "custom_image = custom_image.resize((28, 28))  # Resize to match the model's input shape\n",
    "custom_image_array = np.array(custom_image) / 255.0\n",
    "\n",
    "# Reshape the image to match the model's input shape\n",
    "custom_image_array = custom_image_array.reshape(1, 28, 28, 1)\n",
    "\n",
    "# Load the trained model\n",
    "model = load_model('CNN.h5')  # Replace with your model path\n",
    "\n",
    "# Predict the class of the custom image\n",
    "predicted_probabilities = model.predict(custom_image_array)\n",
    "predicted_class = np.argmax(predicted_probabilities)\n",
    "\n",
    "# Convert the predicted class to the corresponding character\n",
    "characters = \" ABCDEFGHIJKLMNOPQRSTUVWXYZ\"\n",
    "predicted_character = characters[predicted_class]\n",
    "\n",
    "print(f\"Predicted character: {predicted_character}\")\n"
   ]
  },
  {
   "cell_type": "code",
   "execution_count": 6,
   "id": "a8a7164a",
   "metadata": {},
   "outputs": [
    {
     "name": "stdout",
     "output_type": "stream",
     "text": [
      "Defaulting to user installation because normal site-packages is not writeable\n",
      "Requirement already satisfied: h5py in c:\\users\\21ad040\\appdata\\roaming\\python\\python39\\site-packages (3.9.0)\n",
      "Requirement already satisfied: numpy>=1.17.3 in c:\\users\\21ad040\\appdata\\roaming\\python\\python39\\site-packages (from h5py) (1.24.3)\n",
      "Note: you may need to restart the kernel to use updated packages.\n"
     ]
    }
   ],
   "source": [
    "pip install --upgrade h5py\n"
   ]
  },
  {
   "cell_type": "code",
   "execution_count": null,
   "id": "93bdebc1",
   "metadata": {},
   "outputs": [],
   "source": []
  }
 ],
 "metadata": {
  "kernelspec": {
   "display_name": "Python 3 (ipykernel)",
   "language": "python",
   "name": "python3"
  },
  "language_info": {
   "codemirror_mode": {
    "name": "ipython",
    "version": 3
   },
   "file_extension": ".py",
   "mimetype": "text/x-python",
   "name": "python",
   "nbconvert_exporter": "python",
   "pygments_lexer": "ipython3",
   "version": "3.9.13"
  }
 },
 "nbformat": 4,
 "nbformat_minor": 5
}
