{
  "nbformat": 4,
  "nbformat_minor": 0,
  "metadata": {
    "colab": {
      "provenance": [],
      "authorship_tag": "ABX9TyPMTWfU/chboUdoslqT2k2G",
      "include_colab_link": true
    },
    "kernelspec": {
      "name": "python3",
      "display_name": "Python 3"
    },
    "language_info": {
      "name": "python"
    }
  },
  "cells": [
    {
      "cell_type": "markdown",
      "metadata": {
        "id": "view-in-github",
        "colab_type": "text"
      },
      "source": [
        "<a href=\"https://colab.research.google.com/github/Jeyaa-NKS/AD3511-DL-Lab/blob/main/XOR_using_DNN.ipynb\" target=\"_parent\"><img src=\"https://colab.research.google.com/assets/colab-badge.svg\" alt=\"Open In Colab\"/></a>"
      ]
    },
    {
      "cell_type": "code",
      "execution_count": null,
      "metadata": {
        "colab": {
          "base_uri": "https://localhost:8080/"
        },
        "id": "0BeLbseWnoRM",
        "outputId": "8b5df512-91f0-45e5-9f1e-45c8eb5845ff"
      },
      "outputs": [
        {
          "output_type": "stream",
          "name": "stdout",
          "text": [
            "1/1 [==============================] - 0s 126ms/step - loss: 0.3466 - accuracy: 0.7500\n",
            "Loss: 0.3466, Accuracy: 0.7500\n",
            "1/1 [==============================] - 0s 54ms/step\n",
            "Predictions:\n",
            "Input: [0 0], Predicted Output: 0.5000\n",
            "Input: [0 1], Predicted Output: 0.5000\n",
            "Input: [1 0], Predicted Output: 0.9999\n",
            "Input: [1 1], Predicted Output: 0.0001\n"
          ]
        }
      ],
      "source": [
        "import numpy as np\n",
        "import tensorflow as tf\n",
        "\n",
        "# Define the XOR data\n",
        "X = np.array([[0, 0], [0, 1], [1, 0], [1, 1]])\n",
        "y = np.array([0, 1, 1, 0])\n",
        "\n",
        "# Create a Sequential model\n",
        "model = tf.keras.Sequential()\n",
        "\n",
        "# Add layers to the model\n",
        "model.add(tf.keras.layers.Dense(4, input_dim=2, activation='relu'))  # Input layer with 2 input nodes and 4 hidden nodes\n",
        "model.add(tf.keras.layers.Dense(1, activation='sigmoid'))           # Output layer with 1 output node and sigmoid activation\n",
        "\n",
        "# Compile the model\n",
        "model.compile(loss='binary_crossentropy', optimizer='adam', metrics=['accuracy'])\n",
        "\n",
        "# Train the model\n",
        "model.fit(X, y, epochs=10000, verbose=0)\n",
        "\n",
        "# Evaluate the model\n",
        "loss, accuracy = model.evaluate(X, y)\n",
        "print(f\"Loss: {loss:.4f}, Accuracy: {accuracy:.4f}\")\n",
        "\n",
        "# Predictions\n",
        "predictions = model.predict(X)\n",
        "print(\"Predictions:\")\n",
        "for i in range(len(X)):\n",
        "    print(f\"Input: {X[i]}, Predicted Output: {predictions[i][0]:.4f}\")\n"
      ]
    }
  ]
}